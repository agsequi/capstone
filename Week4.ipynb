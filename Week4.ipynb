{
 "cells": [
  {
   "cell_type": "markdown",
   "metadata": {
    "collapsed": true
   },
   "source": [
    "## Problem and Background##"
   ]
  },
  {
   "cell_type": "markdown",
   "metadata": {},
   "source": [
    "The University of Alberta is a Top 5 Canadian university located in Edmonton, Alberta, and home to 40000 students in a wide variety of programs. There are a great variety of options if students want to eat out on UAlberta's north (main) campus, or if they need to get something quickly. Most fast food options on the north campus can be found either in SUB (students' union building) or in HUB mall, as well as on the main floor and basement of CAB (central academic building). Certain larger buildings around campus (such as CCIS) feature coffee shops. There are also many restaurants and cafes clustered around the north end of 109th street (just to the east of campus), as well as on Whyte (82nd) Avenue, a popular dining, and shopping area in Edmonton.\n",
    "\n",
    "To decide which small business should be investigated on the campus zone and what the open hours should be. This project will use Foursquare location data to explore the campus neighbourhood and make the corresponding recommendations. \n"
   ]
  },
  {
   "cell_type": "markdown",
   "metadata": {},
   "source": [
    "## Data and solution to the problem"
   ]
  },
  {
   "cell_type": "markdown",
   "metadata": {},
   "source": [
    "Based on the latitude and longitude coordinates of the University of Alberta, its neighborhood will be explored to display the top 15 venues. Based on these results, the recommendations for future investment will be provided. By looking at the trending venues at some different time points, the open hours will be suggested."
   ]
  }
 ],
 "metadata": {
  "kernelspec": {
   "display_name": "Python 3.5 with Spark",
   "language": "python3",
   "name": "python3"
  },
  "language_info": {
   "codemirror_mode": {
    "name": "ipython",
    "version": 3
   },
   "file_extension": ".py",
   "mimetype": "text/x-python",
   "name": "python",
   "nbconvert_exporter": "python",
   "pygments_lexer": "ipython3",
   "version": "3.5.4"
  }
 },
 "nbformat": 4,
 "nbformat_minor": 1
}
