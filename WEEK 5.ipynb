{
 "cells": [
  {
   "cell_type": "markdown",
   "metadata": {
    "collapsed": true
   },
   "source": [
    "## Introduction"
   ]
  },
  {
   "cell_type": "markdown",
   "metadata": {},
   "source": [
    "The University of Alberta is a Top 5 Canadian university located in Edmonton, Alberta, and home to 40000 students in a wide variety of programs. There are a great variety of options if students want to eat out on UAlberta's north (main) campus, or if they need to get something quickly. Most fast food options on the north campus can be found either in SUB (students' union building) or in HUB mall, as well as on the main floor and basement of CAB (central academic building). Certain larger buildings around campus (such as CCIS) feature coffee shops. There are also many restaurants and cafes clustered around the north end of 109th street (just to the east of campus), as well as on Whyte (82nd) Avenue, a popular dining, and shopping area in Edmonton.\n",
    "\n",
    "To decide which small business should be invested on the campus zone. This project will use Foursquare location data to explore the campus neighborhood and make the corresponding recommendations. The investors will be interested in this project.\n",
    "\n"
   ]
  },
  {
   "cell_type": "markdown",
   "metadata": {},
   "source": [
    "## Data"
   ]
  },
  {
   "cell_type": "markdown",
   "metadata": {},
   "source": [
    "Calls will be made to Foursquare API to retrieve the data. Based on the latitude and longitude coordinates of the University of Alberta, its neighborhood will be explored to display the top 30 venues. Based on these results, the recommendations for future investment will be provided. "
   ]
  },
  {
   "cell_type": "markdown",
   "metadata": {},
   "source": [
    "## Methodology"
   ]
  },
  {
   "cell_type": "markdown",
   "metadata": {},
   "source": [
    "Frequency Analysis will be conducted to present the top 30 venues. Based on this information, recommendation about investment will be made. "
   ]
  },
  {
   "cell_type": "markdown",
   "metadata": {},
   "source": [
    "## Results"
   ]
  },
  {
   "cell_type": "markdown",
   "metadata": {},
   "source": [
    "The places with the highest frequencies are Boston pizza, Starbucks, and Tim Horton’s. These can be the initial choices for investors."
   ]
  },
  {
   "cell_type": "markdown",
   "metadata": {},
   "source": [
    "## Discussion"
   ]
  },
  {
   "cell_type": "markdown",
   "metadata": {},
   "source": [
    "\n",
    "Financial analysis should be conducted to form the final decision. New choices should also be provided.\n"
   ]
  },
  {
   "cell_type": "markdown",
   "metadata": {},
   "source": [
    "## Conclusion"
   ]
  },
  {
   "cell_type": "markdown",
   "metadata": {},
   "source": [
    "\n",
    "This investigation only provides very basic recommendation for investors, for further information, deep analysis are required.\n"
   ]
  }
 ],
 "metadata": {
  "kernelspec": {
   "display_name": "Python 3.5 with Spark",
   "language": "python3",
   "name": "python3"
  },
  "language_info": {
   "codemirror_mode": {
    "name": "ipython",
    "version": 3
   },
   "file_extension": ".py",
   "mimetype": "text/x-python",
   "name": "python",
   "nbconvert_exporter": "python",
   "pygments_lexer": "ipython3",
   "version": "3.5.4"
  }
 },
 "nbformat": 4,
 "nbformat_minor": 1
}
